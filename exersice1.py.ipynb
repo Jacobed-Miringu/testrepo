{
 "cells": [
  {
   "cell_type": "code",
   "execution_count": 3,
   "id": "ef10b03c",
   "metadata": {},
   "outputs": [
    {
     "name": "stdout",
     "output_type": "stream",
     "text": [
      "First Program - Python print function\n",
      "It is declared as this:\n",
      "print('what to print')\n"
     ]
    }
   ],
   "source": [
    "print(\"First Program - Python print function\")\n",
    "print(\"It is declared as this:\")\n",
    "print(\"print('what to print')\")"
   ]
  },
  {
   "cell_type": "code",
   "execution_count": 5,
   "id": "0e868180",
   "metadata": {},
   "outputs": [
    {
     "name": "stdout",
     "output_type": "stream",
     "text": [
      " hello word \n",
      " hello word \n",
      " hello word\n"
     ]
    }
   ],
   "source": [
    "print(\" hello word \\n hello word \\n hello word\")"
   ]
  },
  {
   "cell_type": "code",
   "execution_count": 6,
   "id": "18dc1909",
   "metadata": {},
   "outputs": [
    {
     "name": "stdout",
     "output_type": "stream",
     "text": [
      "Hello Jacobed\n"
     ]
    }
   ],
   "source": [
    "print(\"Hello\"+\" Jacobed\")"
   ]
  },
  {
   "cell_type": "code",
   "execution_count": 7,
   "id": "811215b9",
   "metadata": {},
   "outputs": [
    {
     "name": "stdout",
     "output_type": "stream",
     "text": [
      "Hello Jacobed\n"
     ]
    }
   ],
   "source": [
    "print(\"Hello\"+\" \"+\"Jacobed\")"
   ]
  },
  {
   "cell_type": "code",
   "execution_count": 20,
   "id": "bf810cad",
   "metadata": {},
   "outputs": [
    {
     "name": "stdout",
     "output_type": "stream",
     "text": [
      " sting manupulation exersice \n",
      " string concatenation is done withsign\n",
      " eg Print(\"hello\"+\"Jacobed\")\n",
      " New lines can be created with a backslash and n\n"
     ]
    }
   ],
   "source": [
    "print(\" sting manupulation exersice \\n string concatenation is done with\"+\"sign\")\n",
    "print(' eg Print(\"hello\"+\"Jacobed\")')\n",
    "print(\" New lines can be created with a backslash and n\")"
   ]
  },
  {
   "cell_type": "code",
   "execution_count": 16,
   "id": "33fd7dd2",
   "metadata": {},
   "outputs": [
    {
     "name": "stdout",
     "output_type": "stream",
     "text": [
      "string Manipulation Exercise\n",
      "String concatenation is done with \"+\" sign\n",
      "eg print(\"Hello\"+\"Jenny\")\n",
      "New lines can be created with a backslash and n\n"
     ]
    }
   ],
   "source": [
    "print(\"string Manipulation Exercise\")\n",
    "print('String concatenation is done with \"+\" sign')\n",
    "print('eg print(\"Hello\"+\"Jenny\")')\n",
    "print(\"New lines can be created with a backslash and n\")"
   ]
  },
  {
   "cell_type": "code",
   "execution_count": 24,
   "id": "ffd30b6e",
   "metadata": {},
   "outputs": [
    {
     "name": "stdout",
     "output_type": "stream",
     "text": [
      "string manupulation exersise\n",
      "string concatenationis done with \"+\"sign\n",
      "eg print(\"hello\" + \"Jacobed\")\n",
      "New lines can be created with a backslash and n\n"
     ]
    }
   ],
   "source": [
    "print('string manupulation exersise\\nstring concatenationis done with \"+\"sign\\neg print(\"hello\" + \"Jacobed\")\\nNew lines can be created with a backslash and n')"
   ]
  },
  {
   "cell_type": "code",
   "execution_count": 22,
   "id": "b96056e0",
   "metadata": {},
   "outputs": [
    {
     "name": "stdout",
     "output_type": "stream",
     "text": [
      "string manipulation exercise\n",
      "string concentation with + sign\n",
      "eg print(\"hello \" + \"sameer\")\n",
      "new lines can be createdwith a backslash and n\n"
     ]
    }
   ],
   "source": [
    "print('string manipulation exercise\\nstring concentation with + sign\\neg print(\"hello \" + \"sameer\")\\nnew lines can be createdwith a backslash and n')"
   ]
  },
  {
   "cell_type": "code",
   "execution_count": 31,
   "id": "a6e5c7e3",
   "metadata": {},
   "outputs": [
    {
     "name": "stdout",
     "output_type": "stream",
     "text": [
      "what is your name? Jacobed\n",
      "hello Jacobed\n"
     ]
    }
   ],
   "source": [
    "#input(\"what is your name?\")\n",
    "print(\"hello\"+\" \"+input(\"what is your name? \"))\n"
   ]
  },
  {
   "cell_type": "code",
   "execution_count": null,
   "id": "4c99d39c",
   "metadata": {},
   "outputs": [],
   "source": [
    "print(\"Hey\"+\" \"+input(\"what is your name? \")+\",how are you?\")\n"
   ]
  },
  {
   "cell_type": "code",
   "execution_count": 2,
   "id": "a7e29888",
   "metadata": {},
   "outputs": [
    {
     "name": "stdout",
     "output_type": "stream",
     "text": [
      "what is your name?Jacobed\n",
      "name\n"
     ]
    },
    {
     "data": {
      "text/plain": [
       "7"
      ]
     },
     "execution_count": 2,
     "metadata": {},
     "output_type": "execute_result"
    }
   ],
   "source": [
    "name=input(\"what is your name?\")\n",
    "print(\"name\")\n",
    "len(\"Jacobed\")"
   ]
  },
  {
   "cell_type": "code",
   "execution_count": null,
   "id": "e5c4c2c8",
   "metadata": {},
   "outputs": [],
   "source": []
  }
 ],
 "metadata": {
  "kernelspec": {
   "display_name": "Python 3 (ipykernel)",
   "language": "python",
   "name": "python3"
  },
  "language_info": {
   "codemirror_mode": {
    "name": "ipython",
    "version": 3
   },
   "file_extension": ".py",
   "mimetype": "text/x-python",
   "name": "python",
   "nbconvert_exporter": "python",
   "pygments_lexer": "ipython3",
   "version": "3.9.13"
  }
 },
 "nbformat": 4,
 "nbformat_minor": 5
}
